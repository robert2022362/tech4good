{
 "cells": [
  {
   "cell_type": "code",
   "execution_count": 6,
   "metadata": {},
   "outputs": [],
   "source": [
    "import mysql.connector\n",
    "\n",
    "from mysql.connector import Error\n",
    "import pandas as pd"
   ]
  },
  {
   "cell_type": "code",
   "execution_count": 17,
   "metadata": {},
   "outputs": [
    {
     "name": "stdout",
     "output_type": "stream",
     "text": [
      "MySQL Database connection successful\n"
     ]
    }
   ],
   "source": [
    "def create_server_connection(host_name, user_name, user_password):\n",
    "    connection = None\n",
    "    try:\n",
    "        connection = mysql.connector.connect(\n",
    "            host=host_name,\n",
    "            user=user_name,\n",
    "            passwd=user_password\n",
    "        )\n",
    "        print(\"MySQL Database connection successful\")\n",
    "    except Error as err:\n",
    "        print(f\"Error: '{err}'\")\n",
    "\n",
    "    return connection\n",
    "\n",
    "user_name = \"freedbtech_Barbara_2020\"\n",
    "host_name = \"freedb.tech\"\n",
    "pw = \"Twilight0213\" # IMPORTANT! Put your MySQL Terminal password here.\n",
    "db = \"freedbtech_seed_project_\" # This is the name of the database we will create in the next step - call it whatever you like.\n",
    "\n",
    "connection = create_server_connection(\"freedb.tech\", user_name, pw)\n",
    "\n"
   ]
  },
  {
   "cell_type": "code",
   "execution_count": 18,
   "metadata": {},
   "outputs": [],
   "source": [
    "def create_db_connection(host_name, user_name, user_password, db_name):\n",
    "    connection = None\n",
    "    try:\n",
    "        connection = mysql.connector.connect(\n",
    "            host=host_name,\n",
    "            user=user_name,\n",
    "            passwd=user_password,\n",
    "            database=db_name\n",
    "        )\n",
    "        print(\"MySQL Database connection successful\")\n",
    "    except Error as err:\n",
    "        print(f\"Error: '{err}'\")\n",
    "\n",
    "    return connection"
   ]
  },
  {
   "cell_type": "code",
   "execution_count": 19,
   "metadata": {},
   "outputs": [],
   "source": [
    "def execute_query(connection, query):\n",
    "    cursor = connection.cursor()\n",
    "    try:\n",
    "        cursor.execute(query)\n",
    "        connection.commit()\n",
    "        print(\"Query successful\")\n",
    "    except Error as err:\n",
    "        print(f\"Error: '{err}'\")\n",
    "        "
   ]
  },
  {
   "cell_type": "code",
   "execution_count": 36,
   "metadata": {},
   "outputs": [
    {
     "name": "stdout",
     "output_type": "stream",
     "text": [
      "MySQL Database connection successful\n",
      "Query successful\n"
     ]
    }
   ],
   "source": [
    "# Assign our SQL command to a python variable using triple quotes to create a multi-line string\n",
    "create_teacher_table = \"\"\"\n",
    "CREATE TABLE IF NOT EXISTS users (\n",
    "    users_id INT AUTO_INCREMENT PRIMARY KEY,\n",
    "    name CHAR(128),\n",
    "    gender CHAR,\n",
    "    city CHAR(128),\n",
    "    wechat_id CHAR(128)\n",
    "  );\n",
    " \"\"\"\n",
    "\n",
    "connection = create_db_connection(host_name, user_name, pw, db) # Connect to the Database\n",
    "execute_query(connection, create_teacher_table) # Execute our defined query"
   ]
  },
  {
   "cell_type": "code",
   "execution_count": 50,
   "metadata": {
    "scrolled": true
   },
   "outputs": [
    {
     "name": "stdout",
     "output_type": "stream",
     "text": [
      "MySQL Database connection successful\n",
      "Query successful\n"
     ]
    }
   ],
   "source": [
    "create_audio_table = \"\"\"\n",
    "CREATE TABLE audio (\n",
    "    audio_id INT AUTO_INCREMENT PRIMARY KEY,\n",
    "    audio_filename CHAR(128),\n",
    "    accuracy FLOAT(40),\n",
    "    users INT(40)\n",
    ");\n",
    " \"\"\"\n",
    "\n",
    "connection = create_db_connection(host_name, user_name, pw, db)\n",
    "execute_query(connection, create_audio_table)\n"
   ]
  },
  {
   "cell_type": "code",
   "execution_count": 51,
   "metadata": {},
   "outputs": [
    {
     "name": "stdout",
     "output_type": "stream",
     "text": [
      "MySQL Database connection successful\n",
      "Query successful\n"
     ]
    }
   ],
   "source": [
    "alter_audio = \"\"\"\n",
    "ALTER TABLE audio\n",
    "ADD FOREIGN KEY(users)\n",
    "REFERENCES users(users_id)\n",
    "ON DELETE SET NULL;\n",
    "\"\"\"\n",
    "connection = create_db_connection(host_name, user_name, pw, db)\n",
    "execute_query(connection, alter_audio)\n"
   ]
  },
  {
   "cell_type": "code",
   "execution_count": 56,
   "metadata": {},
   "outputs": [],
   "source": [
    "def read_query(connection, query):\n",
    "    cursor = connection.cursor()\n",
    "    result = None\n",
    "    try:\n",
    "        cursor.execute(query)\n",
    "        result = cursor.fetchall()\n",
    "        return result\n",
    "    except Error as err:\n",
    "        print(f\"Error: '{err}'\")"
   ]
  },
  {
   "cell_type": "code",
   "execution_count": 60,
   "metadata": {},
   "outputs": [
    {
     "name": "stdout",
     "output_type": "stream",
     "text": [
      "MySQL Database connection successful\n",
      "Error: '1054 (42S22): Unknown column 'Robert2' in 'field list''\n"
     ]
    }
   ],
   "source": [
    "def add_user(users_id, name, gender, city, wechat_id):\n",
    "\n",
    "\n",
    "    add = f\"INSERT INTO users (users_id, name, gender, city, wechat_id) VALUES ({users_id}, {name}, {gender}, {city}, {wechat_id})\"\n",
    "\n",
    "    connection = create_db_connection(host_name, user_name, pw, db)\n",
    "    execute_query(connection, add)\n",
    "    \n",
    "add_user(2, \"Robert2\", 'M', \"Shanghai\", \"robert20040506\")"
   ]
  },
  {
   "cell_type": "code",
   "execution_count": 57,
   "metadata": {},
   "outputs": [
    {
     "name": "stdout",
     "output_type": "stream",
     "text": [
      "MySQL Database connection successful\n",
      "(1, 'Robert', 'M', 'Shanghai', 'robert20040506')\n"
     ]
    }
   ],
   "source": [
    "q1 = \"\"\"\n",
    "SELECT *\n",
    "FROM users;\n",
    "\"\"\"\n",
    "\n",
    "connection = create_db_connection(host_name, user_name, pw, db)\n",
    "results = read_query(connection, q1)\n",
    "\n",
    "for result in results:\n",
    "    print(result)"
   ]
  },
  {
   "cell_type": "markdown",
   "metadata": {},
   "source": [
    "And here are some more queries to try."
   ]
  },
  {
   "cell_type": "code",
   "execution_count": null,
   "metadata": {},
   "outputs": [],
   "source": []
  },
  {
   "cell_type": "code",
   "execution_count": null,
   "metadata": {},
   "outputs": [],
   "source": []
  },
  {
   "cell_type": "code",
   "execution_count": null,
   "metadata": {},
   "outputs": [],
   "source": []
  }
 ],
 "metadata": {
  "kernelspec": {
   "display_name": "Python 3",
   "language": "python",
   "name": "python3"
  },
  "language_info": {
   "codemirror_mode": {
    "name": "ipython",
    "version": 3
   },
   "file_extension": ".py",
   "mimetype": "text/x-python",
   "name": "python",
   "nbconvert_exporter": "python",
   "pygments_lexer": "ipython3",
   "version": "3.8.5"
  }
 },
 "nbformat": 4,
 "nbformat_minor": 4
}
